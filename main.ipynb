{
  "nbformat": 4,
  "nbformat_minor": 0,
  "metadata": {
    "colab": {
      "provenance": [],
      "authorship_tag": "ABX9TyN/Mk2URUTbNqRQcRrSEYsy",
      "include_colab_link": true
    },
    "kernelspec": {
      "name": "python3",
      "display_name": "Python 3"
    },
    "language_info": {
      "name": "python"
    }
  },
  "cells": [
    {
      "cell_type": "markdown",
      "metadata": {
        "id": "view-in-github",
        "colab_type": "text"
      },
      "source": [
        "<a href=\"https://colab.research.google.com/github/thangthe37x6/handwritten_digit_recognition_mnist/blob/main/main.ipynb\" target=\"_parent\"><img src=\"https://colab.research.google.com/assets/colab-badge.svg\" alt=\"Open In Colab\"/></a>"
      ]
    },
    {
      "cell_type": "code",
      "source": [
        "import os\n",
        "os.environ['TF_CPP_MIN_LOG_LEVEL'] = '2'\n",
        "import matplotlib.pyplot as plt\n",
        "import numpy as np\n",
        "import tensorflow as tf\n",
        "from tensorflow import keras\n",
        "from tensorflow.keras import layers\n",
        "from tensorflow.keras.datasets import mnist\n",
        "\n"
      ],
      "metadata": {
        "id": "6BEGZnVbmN1d"
      },
      "execution_count": 2,
      "outputs": []
    },
    {
      "cell_type": "code",
      "source": [
        "(x_train, y_train),(x_test,y_test) = mnist.load_data()\n",
        "x_train = x_train/255.0\n",
        "x_test = x_test/255.0\n",
        "\n",
        "#sequential API \n",
        "model = keras.Sequential(\n",
        "    [\n",
        "        keras.layers.Flatten(input_shape=(28,28)),\n",
        "        layers.Dense(128, activation=\"relu\"),\n",
        "        layers.Dense(64, activation=\"relu\"),\n",
        "        layers.Dense(32, activation=\"relu\"),\n",
        "        layers.Dense(10),\n",
        "    ]\n",
        ")\n",
        "\n",
        "model.compile(\n",
        "    loss = keras.losses.SparseCategoricalCrossentropy(from_logits=True),\n",
        "    optimizer = keras.optimizers.Adam(lr=0.001),\n",
        "    metrics=[\"accuracy\"],\n",
        ")\n",
        "\n",
        "model.fit(x_train, y_train, batch_size=64, epochs=5, shuffle=True, verbose=2)\n",
        "model.evaluate(x_test, y_test, batch_size=64, verbose=2)\n",
        "\n",
        "\n"
      ],
      "metadata": {
        "id": "_Ncnii5Aa4y3"
      },
      "execution_count": null,
      "outputs": []
    },
    {
      "cell_type": "code",
      "source": [
        "probability_model = keras.models.Sequential([\n",
        "    model,\n",
        "    keras.layers.Softmax()\n",
        "])\n",
        "k=8\n",
        "predictions = probability_model(x_test)\n",
        "pred0 = predictions[k]\n",
        "print(pred0)\n",
        "\n",
        "# use np.argmax to get label with highest probability\n",
        "label0 = np.argmax(pred0)\n",
        "print(label0)\n",
        "plt.imshow(x_test[k])"
      ],
      "metadata": {
        "id": "gViVNeRLBEWk"
      },
      "execution_count": null,
      "outputs": []
    },
    {
      "cell_type": "code",
      "source": [
        "pred05s = predictions[0:12]\n",
        "print(pred05s.shape)\n",
        "label05s = np.argmax(pred05s, axis=1)\n",
        "print(label05s)\n",
        "for i in range(12):\n",
        "  plt.subplot(3,4,i+1)\n",
        "  plt.imshow(x_test[i], cmap='gray')\n",
        "plt.show()\n",
        "print(y_test[8])"
      ],
      "metadata": {
        "id": "lo795DPgIZT1"
      },
      "execution_count": null,
      "outputs": []
    }
  ]
}